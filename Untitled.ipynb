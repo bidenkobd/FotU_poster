{
 "cells": [
  {
   "cell_type": "code",
   "execution_count": 3,
   "metadata": {},
   "outputs": [
    {
     "name": "stdout",
     "output_type": "stream",
     "text": [
      "Collecting getdist\n",
      "\u001b[?25l  Downloading https://files.pythonhosted.org/packages/ae/5f/78244121dfb0d1e4137597a3c32f9e688ebc9096567af07a3347afb0b20e/GetDist-1.3.2.tar.gz (773kB)\n",
      "\u001b[K     |████████████████████████████████| 778kB 4.7MB/s eta 0:00:01\n",
      "\u001b[?25hRequirement already satisfied: numpy>=1.17.0 in /home/bohdan/anaconda3/lib/python3.7/site-packages (from getdist) (1.18.4)\n",
      "Requirement already satisfied: matplotlib>=2.2.0 in /home/bohdan/anaconda3/lib/python3.7/site-packages (from getdist) (3.2.1)\n",
      "Collecting scipy>=1.5.0 (from getdist)\n",
      "\u001b[?25l  Downloading https://files.pythonhosted.org/packages/b5/6b/8bc0b61ebf824f8c3979a31368bbe38dd247590049a994ab0ed077cb56dc/scipy-1.7.1-cp37-cp37m-manylinux_2_5_x86_64.manylinux1_x86_64.whl (28.5MB)\n",
      "\u001b[K     |████████████████████████████████| 28.5MB 35.2MB/s eta 0:00:01     |███████████████▌                | 13.8MB 10.7MB/s eta 0:00:02     |████████████████████            | 17.9MB 10.7MB/s eta 0:00:01\n",
      "\u001b[?25hRequirement already satisfied: PyYAML>=5.1 in /home/bohdan/anaconda3/lib/python3.7/site-packages (from getdist) (5.1.2)\n",
      "Requirement already satisfied: python-dateutil>=2.1 in /home/bohdan/anaconda3/lib/python3.7/site-packages (from matplotlib>=2.2.0->getdist) (2.8.0)\n",
      "Requirement already satisfied: cycler>=0.10 in /home/bohdan/anaconda3/lib/python3.7/site-packages (from matplotlib>=2.2.0->getdist) (0.10.0)\n",
      "Requirement already satisfied: pyparsing!=2.0.4,!=2.1.2,!=2.1.6,>=2.0.1 in /home/bohdan/anaconda3/lib/python3.7/site-packages (from matplotlib>=2.2.0->getdist) (2.4.7)\n",
      "Requirement already satisfied: kiwisolver>=1.0.1 in /home/bohdan/anaconda3/lib/python3.7/site-packages (from matplotlib>=2.2.0->getdist) (1.2.0)\n",
      "Requirement already satisfied: six>=1.5 in /home/bohdan/anaconda3/lib/python3.7/site-packages (from python-dateutil>=2.1->matplotlib>=2.2.0->getdist) (1.15.0)\n",
      "Building wheels for collected packages: getdist\n",
      "  Building wheel for getdist (setup.py) ... \u001b[?25ldone\n",
      "\u001b[?25h  Created wheel for getdist: filename=GetDist-1.3.2-cp37-none-any.whl size=226305 sha256=ffb211f3ffea131dfd7f028140b05818317157098c8f5cc5441dd3272fcb8c87\n",
      "  Stored in directory: /home/bohdan/.cache/pip/wheels/10/70/ba/437878d6762fd65f3e08b28d762bef505ce155940def6d323b\n",
      "Successfully built getdist\n",
      "Installing collected packages: scipy, getdist\n",
      "  Found existing installation: scipy 1.4.1\n",
      "    Uninstalling scipy-1.4.1:\n",
      "      Successfully uninstalled scipy-1.4.1\n",
      "Successfully installed getdist-1.3.2 scipy-1.7.1\n"
     ]
    }
   ],
   "source": [
    "!pip install getdist"
   ]
  },
  {
   "cell_type": "code",
   "execution_count": 4,
   "metadata": {},
   "outputs": [
    {
     "data": {
      "application/vnd.jupyter.widget-view+json": {
       "model_id": "02c16e5214d44ef69e05c4d7e1692b47",
       "version_major": 2,
       "version_minor": 0
      },
      "text/plain": [
       "Output()"
      ]
     },
     "metadata": {},
     "output_type": "display_data"
    }
   ],
   "source": [
    "import numpy as np\n",
    "import k3d\n",
    "import pandas as pn\n",
    "from getdist import plots, MCSamples\n",
    "import matplotlib.pyplot as plt\n",
    "%matplotlib inline\n",
    "plot = k3d.plot(camera_auto_fit=True)\n",
    "plot.display()"
   ]
  },
  {
   "cell_type": "code",
   "execution_count": null,
   "metadata": {},
   "outputs": [],
   "source": []
  }
 ],
 "metadata": {
  "kernelspec": {
   "display_name": "Python 3",
   "language": "python",
   "name": "python3"
  },
  "language_info": {
   "codemirror_mode": {
    "name": "ipython",
    "version": 3
   },
   "file_extension": ".py",
   "mimetype": "text/x-python",
   "name": "python",
   "nbconvert_exporter": "python",
   "pygments_lexer": "ipython3",
   "version": "3.7.3"
  }
 },
 "nbformat": 4,
 "nbformat_minor": 4
}
